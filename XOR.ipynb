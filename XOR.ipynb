{
 "cells": [
  {
   "cell_type": "code",
   "execution_count": 3,
   "id": "070c7343-9140-46af-be63-61082690dc3b",
   "metadata": {},
   "outputs": [
    {
     "name": "stdout",
     "output_type": "stream",
     "text": [
      "Epoch: 0 Loss: 0.28014363590911784\n",
      "Epoch: 1000 Loss: 0.24971731456941582\n",
      "Epoch: 2000 Loss: 0.24834256246704572\n",
      "Epoch: 3000 Loss: 0.2351732079632958\n",
      "Epoch: 4000 Loss: 0.18761745745277097\n",
      "Epoch: 5000 Loss: 0.11376191085651663\n",
      "Epoch: 6000 Loss: 0.02848272524800015\n",
      "Epoch: 7000 Loss: 0.012042153641357235\n",
      "Epoch: 8000 Loss: 0.0071629107762606736\n",
      "Epoch: 9000 Loss: 0.004983407119855729\n",
      "\n",
      "Final Output (Rounded):\n",
      "[[0.]\n",
      " [1.]\n",
      " [1.]\n",
      " [0.]]\n",
      "\n",
      "XOR Truth Table (Predicted):\n",
      "0 XOR 0 = 0\n",
      "0 XOR 1 = 1\n",
      "1 XOR 0 = 1\n",
      "1 XOR 1 = 0\n"
     ]
    },
    {
     "data": {
      "image/png": "[encoded data removed]",
      "text/plain": [
       "<Figure size 640x480 with 1 Axes>"
      ]
     },
     "metadata": {},
     "output_type": "display_data"
    }
   ],
   "source": [
    "import numpy as np\n",
    "import matplotlib.pyplot as plt\n",
    "\n",
    "def sigmoid(x):\n",
    "    return 1 / (1 + np.exp(-x))\n",
    "\n",
    "def sigmoid_derivative(x):\n",
    "    return x * (1 - x)\n",
    "\n",
    "X = np.array([[0,0], [0,1], [1,0], [1,1]])\n",
    "Y = np.array([[0], [1], [1], [0]])\n",
    "\n",
    "np.random.seed(1)\n",
    "input_to_hidden_weights = np.random.rand(2, 2)\n",
    "hidden_bias = np.random.rand(1, 2)\n",
    "hidden_to_output_weights = np.random.rand(2, 1)\n",
    "output_bias = np.random.rand(1, 1)\n",
    "\n",
    "lr = 0.1\n",
    "epochs = 10000\n",
    "\n",
    "for i in range(epochs):\n",
    "    hidden_layer_input = np.dot(X, input_to_hidden_weights) + hidden_bias\n",
    "    hidden_layer_output = sigmoid(hidden_layer_input)\n",
    "\n",
    "    final_input = np.dot(hidden_layer_output, hidden_to_output_weights) + output_bias\n",
    "    final_output = sigmoid(final_input)\n",
    "\n",
    "    loss = Y - final_output\n",
    "\n",
    "    d_output = loss * sigmoid_derivative(final_output)\n",
    "    d_hidden = d_output.dot(hidden_to_output_weights.T) * sigmoid_derivative(hidden_layer_output)\n",
    "\n",
    "    hidden_to_output_weights += hidden_layer_output.T.dot(d_output) * lr\n",
    "    output_bias += np.sum(d_output, axis=0, keepdims=True) * lr\n",
    "\n",
    "    input_to_hidden_weights += X.T.dot(d_hidden) * lr\n",
    "    hidden_bias += np.sum(d_hidden, axis=0, keepdims=True) * lr\n",
    "\n",
    "    if i % 1000 == 0:\n",
    "        print(\"Epoch:\", i, \"Loss:\", np.mean(np.square(loss)))\n",
    "\n",
    "# Final output after training\n",
    "print(\"\\nFinal Output (Rounded):\")\n",
    "rounded_output = np.round(final_output)\n",
    "print(rounded_output)\n",
    "\n",
    "print(\"\\nXOR Truth Table (Predicted):\")\n",
    "for i in range(len(X)):\n",
    "    x1, x2 = X[i]\n",
    "    pred = int(rounded_output[i][0])\n",
    "    print(f\"{int(x1)} XOR {int(x2)} = {pred}\")\n",
    "\n",
    "# Plot decision boundary\n",
    "def plot_boundary():\n",
    "    h = 0.01\n",
    "    x_min, x_max = X[:,0].min() - 0.1, X[:,0].max() + 0.1\n",
    "    y_min, y_max = X[:,1].min() - 0.1, X[:,1].max() + 0.1\n",
    "    xx, yy = np.meshgrid(np.arange(x_min, x_max, h),\n",
    "                         np.arange(y_min, y_max, h))\n",
    "    grid = np.c_[xx.ravel(), yy.ravel()]\n",
    "    hidden = sigmoid(np.dot(grid, input_to_hidden_weights) + hidden_bias)\n",
    "    output = sigmoid(np.dot(hidden, hidden_to_output_weights) + output_bias)\n",
    "    output = output.reshape(xx.shape)\n",
    "\n",
    "    plt.contourf(xx, yy, output, levels=[0, 0.5, 1], cmap=plt.cm.RdBu, alpha=0.6)\n",
    "    plt.scatter(X[:, 0], X[:, 1], c=Y.ravel(), edgecolors='k', cmap=plt.cm.RdBu)\n",
    "    plt.title(\"XOR MLP Decision Boundary\")\n",
    "    plt.xlabel(\"Input 1\")\n",
    "    plt.ylabel(\"Input 2\")\n",
    "    plt.show()\n",
    "\n",
    "plot_boundary()\n"
   ]
  }
 ],
 "metadata": {
  "kernelspec": {
   "display_name": "Python 3 (ipykernel)",
   "language": "python",
   "name": "python3"
  },
  "language_info": {
   "codemirror_mode": {
    "name": "ipython",
    "version": 3
   },
   "file_extension": ".py",
   "mimetype": "text/x-python",
   "name": "python",
   "nbconvert_exporter": "python",
   "pygments_lexer": "ipython3",
   "version": "3.12.4"
  }
 },
 "nbformat": 4,
 "nbformat_minor": 5
}
